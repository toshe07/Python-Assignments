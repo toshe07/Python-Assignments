{
 "cells": [
  {
   "cell_type": "markdown",
   "id": "cd9beea2",
   "metadata": {},
   "source": [
    "### Assignment 11"
   ]
  },
  {
   "cell_type": "code",
   "execution_count": 3,
   "id": "df150f94",
   "metadata": {},
   "outputs": [
    {
     "data": {
      "text/plain": [
       "['Python', 'program', 'greater', 'length']"
      ]
     },
     "execution_count": 3,
     "metadata": {},
     "output_type": "execute_result"
    }
   ],
   "source": [
    "#. 1. Write a Python program to find words which are greater than given length k?\n",
    "\n",
    "def words(arr, k):\n",
    "    arr = list(arr.split())\n",
    "    res = []\n",
    "    for i in arr:\n",
    "        if len(i) > k:\n",
    "            res.append(i)\n",
    "    return res\n",
    "\n",
    "string = 'Write a Python program to find words which are greater than given length k?'\n",
    "words(string, 5)"
   ]
  },
  {
   "cell_type": "code",
   "execution_count": 6,
   "id": "80b8f3b9",
   "metadata": {},
   "outputs": [
    {
     "data": {
      "text/plain": [
       "'M name is pika'"
      ]
     },
     "execution_count": 6,
     "metadata": {},
     "output_type": "execute_result"
    }
   ],
   "source": [
    "#2. Write a Python program for removing i-th character from a string?\n",
    "\n",
    "def removeChar(ch, i):\n",
    "    for k in range(len(ch)):\n",
    "        if k == i:\n",
    "            ch = ch.replace(ch[k],'')\n",
    "    return ch\n",
    "\n",
    "string = \"My name is pika\"\n",
    "removeChar(string, 1)"
   ]
  },
  {
   "cell_type": "code",
   "execution_count": 13,
   "id": "8ad06cd9",
   "metadata": {},
   "outputs": [
    {
     "data": {
      "text/plain": [
       "'is pika My name '"
      ]
     },
     "execution_count": 13,
     "metadata": {},
     "output_type": "execute_result"
    }
   ],
   "source": [
    "#3. Write a Python program to split and join a string?\n",
    "\n",
    "def splitNjoin(ch, k):\n",
    "    \n",
    "    #Nothing's mentioned as how to join\n",
    "    #so splitting and joining reverse\n",
    "    \n",
    "    return ch[k:] + ch[:k]\n",
    " \n",
    "string = \"My name is pika \"   \n",
    "splitNjoin(string, 8)"
   ]
  },
  {
   "cell_type": "code",
   "execution_count": 20,
   "id": "51bd393a",
   "metadata": {},
   "outputs": [
    {
     "data": {
      "text/plain": [
       "True"
      ]
     },
     "execution_count": 20,
     "metadata": {},
     "output_type": "execute_result"
    }
   ],
   "source": [
    "#4. Write a Python to check if a given string is binary string or not?\n",
    "\n",
    "def checkBinary(ch):\n",
    "    try:\n",
    "        if 0^int(ch)==int(ch):\n",
    "            return True\n",
    "    except:\n",
    "        return False\n",
    "\n",
    "checkBinary('10011')\n",
    "# checkBinary('kpg')"
   ]
  },
  {
   "cell_type": "code",
   "execution_count": 90,
   "id": "0e92e243",
   "metadata": {},
   "outputs": [
    {
     "data": {
      "text/plain": [
       "['This', 'ashutosh']"
      ]
     },
     "execution_count": 90,
     "metadata": {},
     "output_type": "execute_result"
    }
   ],
   "source": [
    "#5. Write a Python program to find uncommon words from two Strings?\n",
    "\n",
    "def uncommon(st1, st2):\n",
    "    dict_str = {}\n",
    "    res = []\n",
    "    \n",
    "    for i in st1.split():\n",
    "        dict_str[i] = dict_str.get(i,[]) + [1]\n",
    "    for j in st2.split():\n",
    "        dict_str[j] = dict_str.get(j, []) + [1]\n",
    "        \n",
    "#     print(dict_str)\n",
    "    for i in dict_str:\n",
    "        if(len(dict_str[i])>1):\n",
    "            res.append(i)\n",
    "    return res\n",
    "\n",
    "uncommon(\"This is ashutosh\", \"This ashutosh boy\")"
   ]
  },
  {
   "cell_type": "code",
   "execution_count": 99,
   "id": "1e1b79a7",
   "metadata": {},
   "outputs": [
    {
     "name": "stdout",
     "output_type": "stream",
     "text": [
      "a occured: 2 times\n",
      "e occured: 2 times\n",
      "h occured: 2 times\n",
      "n occured: 2 times\n",
      "o occured: 2 times\n",
      "s occured: 2 times\n",
      "y occured: 2 times\n"
     ]
    }
   ],
   "source": [
    "# 6. Write a Python to find all duplicate characters in string?\n",
    "\n",
    "def findDuplicates(ch):\n",
    "    dict_1 = {}\n",
    "    ch = [char for char in ch]\n",
    "    for i, v in enumerate(sorted(ch)):\n",
    "        if v!=' ':\n",
    "            dict_1[v] = dict_1.get(v, []) + [i]\n",
    "    \n",
    "    for i in dict_1:\n",
    "        if len(dict_1[i])>1:\n",
    "            print(\"{} occured: {} times\".format(i,len(dict_1[i])))\n",
    "            \n",
    "    return None\n",
    "\n",
    "ch = \"My name is Khushboo Pandey\"\n",
    "findDuplicates(ch)"
   ]
  },
  {
   "cell_type": "code",
   "execution_count": 111,
   "id": "916c0eb1",
   "metadata": {},
   "outputs": [
    {
     "data": {
      "text/plain": [
       "'Special character found'"
      ]
     },
     "execution_count": 111,
     "metadata": {},
     "output_type": "execute_result"
    }
   ],
   "source": [
    "#7. Write a Python Program to check if a string contains any special character?\n",
    "\n",
    "def specialChar(ch):\n",
    "    import re\n",
    "    special_char = re.compile('[@_!#$%^&*()<>?/\\|}{~:]')\n",
    "    \n",
    "    if special_char.search(ch) != None:\n",
    "        return \"Special character found\"\n",
    "    else:\n",
    "        return \"No special character found\"\n",
    "\n",
    "ch = \"My email is 123@gmail.com\"\n",
    "specialChar(ch)"
   ]
  },
  {
   "cell_type": "markdown",
   "id": "047938fc",
   "metadata": {},
   "source": [
    "### Assignment 12 "
   ]
  },
  {
   "cell_type": "code",
   "execution_count": 112,
   "id": "db3da907",
   "metadata": {},
   "outputs": [
    {
     "ename": "SyntaxError",
     "evalue": "invalid syntax (Temp/ipykernel_19792/1758168812.py, line 3)",
     "output_type": "error",
     "traceback": [
      "\u001b[1;36m  File \u001b[1;32m\"C:\\Users\\07tos\\AppData\\Local\\Temp/ipykernel_19792/1758168812.py\"\u001b[1;36m, line \u001b[1;32m3\u001b[0m\n\u001b[1;33m    smjh ni aya\u001b[0m\n\u001b[1;37m         ^\u001b[0m\n\u001b[1;31mSyntaxError\u001b[0m\u001b[1;31m:\u001b[0m invalid syntax\n"
     ]
    }
   ],
   "source": [
    "#1. Write a Python program to Extract Unique values dictionary values?\n",
    "\n",
    "smjh ni aya"
   ]
  },
  {
   "cell_type": "code",
   "execution_count": 113,
   "id": "87cefd0f",
   "metadata": {},
   "outputs": [
    {
     "data": {
      "text/plain": [
       "600"
      ]
     },
     "execution_count": 113,
     "metadata": {},
     "output_type": "execute_result"
    }
   ],
   "source": [
    "#2. Write a Python program to find the sum of all items in a dictionary?\n",
    "\n",
    "def sumDict(dict):\n",
    "    sum = 0\n",
    "    for i in dict:\n",
    "        sum+=dict[i]\n",
    "    return sum\n",
    "\n",
    "dic = {'Mango': 100, 'Banana': 200, 'Peach': 300}\n",
    "sumDict(dic)"
   ]
  },
  {
   "cell_type": "code",
   "execution_count": 118,
   "id": "222439e8",
   "metadata": {},
   "outputs": [
    {
     "data": {
      "text/plain": [
       "{'Apple': 300, 'Banana': 200, 'Mango': 240, 'Carrot': 20, 'Peas': 50}"
      ]
     },
     "execution_count": 118,
     "metadata": {},
     "output_type": "execute_result"
    }
   ],
   "source": [
    "#3. Write a Python program to Merging two Dictionaries?\n",
    "\n",
    "def mergeDict(d1, d2):\n",
    "    d3 = d1.copy()\n",
    "    for i in d2:\n",
    "        d3[i] = d2[i]\n",
    "    return d3\n",
    "fruits = {'Apple':300 ,'Banana': 200, 'Mango': 240}\n",
    "vege = {'Carrot':20, 'Peas': 50}\n",
    "\n",
    "mergeDict(fruits,vege)\n"
   ]
  },
  {
   "cell_type": "code",
   "execution_count": 119,
   "id": "a86c101a",
   "metadata": {},
   "outputs": [
    {
     "ename": "SyntaxError",
     "evalue": "invalid syntax (Temp/ipykernel_19792/3134523821.py, line 3)",
     "output_type": "error",
     "traceback": [
      "\u001b[1;36m  File \u001b[1;32m\"C:\\Users\\07tos\\AppData\\Local\\Temp/ipykernel_19792/3134523821.py\"\u001b[1;36m, line \u001b[1;32m3\u001b[0m\n\u001b[1;33m    eg dekhna h\u001b[0m\n\u001b[1;37m       ^\u001b[0m\n\u001b[1;31mSyntaxError\u001b[0m\u001b[1;31m:\u001b[0m invalid syntax\n"
     ]
    }
   ],
   "source": [
    "#4. Write a Python program to convert key-values list to flat dictionary?\n",
    "\n",
    "eg dekhna h"
   ]
  },
  {
   "cell_type": "code",
   "execution_count": 157,
   "id": "2e41159a",
   "metadata": {},
   "outputs": [
    {
     "data": {
      "text/plain": [
       "OrderedDict([('Master', 11), ('Blaster', 100), ('Ashu', 7), ('Tosh', 18)])"
      ]
     },
     "execution_count": 157,
     "metadata": {},
     "output_type": "execute_result"
    }
   ],
   "source": [
    "#5. Write a Python program to insertion at the beginning in OrderedDict?\n",
    "\n",
    "from collections import OrderedDict\n",
    "def insertOrderdedDict(dict_1, dict_2):\n",
    "    od1 = OrderedDict(dict_1)\n",
    "    od2 = OrderedDict(dict_2)\n",
    "    for i in dict_2:\n",
    "        od2.move_to_end(i, last = False)\n",
    "    od1.update(od2)\n",
    "    for i in od2:\n",
    "        od1.move_to_end(i, last = False)\n",
    "    \n",
    "    return od1\n",
    "\n",
    "dict_1 = {'Ashu':7, 'Tosh':18}\n",
    "dict_2 = {'Master':11,'Blaster':100}\n",
    "insertOrderdedDict(dict_1,dict_2)"
   ]
  },
  {
   "cell_type": "code",
   "execution_count": 156,
   "id": "df28e454",
   "metadata": {},
   "outputs": [],
   "source": [
    "#6. Write a Python program to check order of character in string using OrderedDict()?"
   ]
  },
  {
   "cell_type": "code",
   "execution_count": 33,
   "id": "09a39587",
   "metadata": {},
   "outputs": [
    {
     "data": {
      "text/plain": [
       "[('Blaster', 100), ('Master', 11), ('Sachin', 55), ('Tendulkar', 263)]"
      ]
     },
     "execution_count": 33,
     "metadata": {},
     "output_type": "execute_result"
    }
   ],
   "source": [
    "#7. Write a Python program to sort Python Dictionaries by Key or Value?\n",
    "\n",
    "def sortDict(dict1, sort):\n",
    "    return sorted(dict1.items(), key = lambda xy: ((xy[0],xy[1]) if sort=='keys' else (xy[1],xy[0])))\n",
    "\n",
    "dict1 = {'Master':11,'Blaster':100, 'Sachin':55, 'Tendulkar': 263}\n",
    "#sortDict(dict1, 'values')\n",
    "sortDict(dict1, 'keys')"
   ]
  },
  {
   "cell_type": "markdown",
   "id": "f263a566",
   "metadata": {},
   "source": [
    "### Assignment -13 "
   ]
  },
  {
   "cell_type": "code",
   "execution_count": 50,
   "id": "e7ef5805",
   "metadata": {},
   "outputs": [
    {
     "name": "stdout",
     "output_type": "stream",
     "text": [
      "100,150,180\n",
      "18, 22, 24\n"
     ]
    }
   ],
   "source": [
    "#1\n",
    "\n",
    "def calcVal(D):\n",
    "    C, H = 50, 30\n",
    "    Q =  ((2 * C * D)/H)**0.5\n",
    "    return int(round(Q))\n",
    "\n",
    "D = input(\"Enter comma separated values:\")\n",
    "lst = list(map(int, D.split(',')))\n",
    "res = []\n",
    "for i in lst:\n",
    "    res.append(calcVal(i))\n",
    "\n",
    "print(str(res)[1:-1])"
   ]
  },
  {
   "cell_type": "code",
   "execution_count": 62,
   "id": "71ca1b6c",
   "metadata": {},
   "outputs": [
    {
     "name": "stdout",
     "output_type": "stream",
     "text": [
      "Enter row, column3,5\n"
     ]
    },
    {
     "data": {
      "text/plain": [
       "[[0, 0, 0, 0, 0], [0, 1, 2, 3, 4], [0, 2, 4, 6, 8]]"
      ]
     },
     "execution_count": 62,
     "metadata": {},
     "output_type": "execute_result"
    }
   ],
   "source": [
    "#2.\n",
    "\n",
    "def genArray(n,m):\n",
    "    res = []\n",
    "    res = [[i*j for j in range(m)] for i in range(n)]\n",
    "    return res\n",
    "\n",
    "row, column = map(int,input(\"Enter row, column:\").split(','))\n",
    "\n",
    "genArray(row,column)\n",
    "            "
   ]
  },
  {
   "cell_type": "code",
   "execution_count": 128,
   "id": "ef5494f6",
   "metadata": {},
   "outputs": [
    {
     "name": "stdout",
     "output_type": "stream",
     "text": [
      "Enter comma separated words to sort:\n",
      "without,hello,bag,world\n",
      "bag,hello,without,world\n"
     ]
    }
   ],
   "source": [
    "#3.\n",
    "\n",
    "words = sorted(input(\"Enter comma separated words to sort:\\n\").split(','))\n",
    "words2 = ','\n",
    "print(words2.join(words))"
   ]
  },
  {
   "cell_type": "code",
   "execution_count": 75,
   "id": "12006b19",
   "metadata": {},
   "outputs": [
    {
     "name": "stdout",
     "output_type": "stream",
     "text": [
      "Enter whitespace separated words:\n",
      "hello world and practice makes perfect and hello world again\n",
      "again and hello makes perfect practice world\n"
     ]
    }
   ],
   "source": [
    "#4.\n",
    "\n",
    "words = input(\"Enter whitespace separated words:\\n\").split(' ')\n",
    "disp = ' '\n",
    "print(disp.join(sorted(set(words))))"
   ]
  },
  {
   "cell_type": "code",
   "execution_count": 116,
   "id": "3376bd1a",
   "metadata": {},
   "outputs": [
    {
     "name": "stdout",
     "output_type": "stream",
     "text": [
      "Enter the sentence:\n",
      "C0unt letters and d1g1ts\n",
      "Letters = 18 & Digits = 3\n"
     ]
    }
   ],
   "source": [
    "#5.\n",
    "\n",
    "sentence = list(input(\"Enter the sentence:\\n\"))\n",
    "letters, digits = 0,0\n",
    "for i in sentence:\n",
    "    if(i in ['0','1','2','3','4','5','6','7','8','9']):\n",
    "        digits+=1\n",
    "    elif(ord(i.lower()) in range(97,123)):\n",
    "        letters+=1\n",
    "print(\"Letters = {} & Digits = {}\".format(letters,digits))"
   ]
  },
  {
   "cell_type": "code",
   "execution_count": 129,
   "id": "df28004c",
   "metadata": {},
   "outputs": [
    {
     "name": "stdout",
     "output_type": "stream",
     "text": [
      "Enter comma separated passwords:\n",
      "ABd1234@1,a F1#,2w3E*,2We3345,KhushB00@,BadAss786!2\n",
      "ABd1234@1,KhushB00@\n"
     ]
    }
   ],
   "source": [
    "#6.\n",
    "\n",
    "def passwordCheck(pwd):\n",
    "    l_letter = 0\n",
    "    u_letter = 0\n",
    "    digit = 0\n",
    "    char = 0\n",
    "    length = 0\n",
    "\n",
    "    for i in pwd:\n",
    "        if(ord(i) in range(97,123)):\n",
    "            l_letter = 1\n",
    "        elif(ord(i) in range(65,91)):\n",
    "            u_letter = 1\n",
    "        elif(i in ['0','1','2','3','4','5','6','7','8','9']):\n",
    "            digit = 1\n",
    "        elif(i in {'$', '#', '@'}):\n",
    "            char = 1\n",
    "        else:\n",
    "            return 0\n",
    "    if(6<= len(pwd) <= 12):\n",
    "        length = 1\n",
    "    return (l_letter & u_letter & digit & char & length)\n",
    "\n",
    "passwords = input(\"Enter comma separated passwords:\\n\").split(',')\n",
    "res = [] \n",
    "disp = ','\n",
    "for i in passwords:\n",
    "    if(passwordCheck(i)):\n",
    "        res.append(i)\n",
    "\n",
    "print(disp.join(res))"
   ]
  },
  {
   "cell_type": "markdown",
   "id": "d9a8b1f3",
   "metadata": {},
   "source": [
    "### Assignment-14"
   ]
  },
  {
   "cell_type": "code",
   "execution_count": null,
   "id": "53383478",
   "metadata": {},
   "outputs": [],
   "source": []
  }
 ],
 "metadata": {
  "kernelspec": {
   "display_name": "Python 3 (ipykernel)",
   "language": "python",
   "name": "python3"
  },
  "language_info": {
   "codemirror_mode": {
    "name": "ipython",
    "version": 3
   },
   "file_extension": ".py",
   "mimetype": "text/x-python",
   "name": "python",
   "nbconvert_exporter": "python",
   "pygments_lexer": "ipython3",
   "version": "3.9.7"
  }
 },
 "nbformat": 4,
 "nbformat_minor": 5
}
